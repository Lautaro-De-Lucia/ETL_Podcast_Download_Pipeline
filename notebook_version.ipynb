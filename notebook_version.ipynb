{
 "cells": [
  {
   "cell_type": "markdown",
   "id": "34775e27-6c6f-4554-a22a-e67dbcaf766d",
   "metadata": {},
   "source": [
    "# **Google Podcast Downloader Pipeline (Notebook Version with the Code)**"
   ]
  },
  {
   "cell_type": "markdown",
   "id": "2d28c087-25ea-46c9-8cae-af70f92b4805",
   "metadata": {},
   "source": [
    "## Scraping Podcasts"
   ]
  },
  {
   "cell_type": "code",
   "execution_count": 1,
   "id": "a5d89b8b-2e16-4002-8bb9-77dbd6ba68d7",
   "metadata": {},
   "outputs": [],
   "source": [
    "import requests\n",
    "from bs4 import BeautifulSoup\n",
    "import wget # to download files\n",
    "import pandas as pd\n",
    "import os\n",
    "import utils\n",
    "import yaml\n",
    "import sqlite3"
   ]
  },
  {
   "cell_type": "markdown",
   "id": "ef2f457e-59a2-4778-883f-ee0fd50bf453",
   "metadata": {},
   "source": [
    "## Task 1: Collect Configuration"
   ]
  },
  {
   "cell_type": "code",
   "execution_count": 2,
   "id": "df8e7daa-d418-43a6-aee2-dae8f99694dc",
   "metadata": {},
   "outputs": [],
   "source": [
    "config = dict()\n",
    "with open(\"config.yaml\", \"r\") as f:\n",
    "    config = yaml.load(f,Loader=yaml.FullLoader)\n",
    "days_prior = config['days_prior']\n",
    "download_path = config['path']"
   ]
  },
  {
   "cell_type": "markdown",
   "id": "a9d241c1-af57-4281-9cf5-97c0ece4e4bc",
   "metadata": {},
   "source": [
    "## Task 2: Collect URLs from subscribed file"
   ]
  },
  {
   "cell_type": "code",
   "execution_count": 3,
   "id": "c241b0a0-3777-4b7e-8fd6-3664903baec4",
   "metadata": {},
   "outputs": [],
   "source": [
    "URLs = []\n",
    "with open('podcast_urls.txt') as input_file:\n",
    "    lines = input_file.readlines()\n",
    "    for line in lines:\n",
    "        URLs.append(line.strip())"
   ]
  },
  {
   "cell_type": "markdown",
   "id": "e9471196-b446-4c09-9734-d53114f2d7cb",
   "metadata": {},
   "source": [
    "## Task 3a: Scrape podcast metadata, saving it to a dataframe\n"
   ]
  },
  {
   "cell_type": "code",
   "execution_count": 4,
   "id": "2b583090-e32f-4ef9-9911-0c9c095cd1bc",
   "metadata": {},
   "outputs": [],
   "source": [
    "podcast_metadata_df = pd.DataFrame(columns =['podcast','episode','date','length'])\n"
   ]
  },
  {
   "cell_type": "code",
   "execution_count": 5,
   "id": "4349cfb2-e51e-4188-9fc3-4d18a8e5c321",
   "metadata": {},
   "outputs": [],
   "source": [
    "def load_podcast_metadata(df,days,url,path): \n",
    "    soup = BeautifulSoup(requests.get(url).text,'lxml')\n",
    "    show_title = soup.find('div', {'class':'ZfMIwb'}).text\n",
    "    try:\n",
    "        os.mkdir(path+'/'+show_title.replace(\" \",\"_\"))\n",
    "    except FileExistsError:\n",
    "        pass\n",
    "    for podcast in soup.find_all('a', {'role':'listitem'}):\n",
    "        release_date = podcast.find('div',{'class':'OTz6ee'}).text\n",
    "        if release_date in utils.get_time_range(days):\n",
    "            if release_date.endswith('ago'):\n",
    "                release_date = utils.string_to_delta(release_date)\n",
    "            release_date = utils.to_datetime(release_date)\n",
    "            name = podcast.find('div', {'class':'e3ZUqe'}).text        \n",
    "            length = podcast.find('span', {'class':'gUJ0Wc'}).text            \n",
    "            metadata = [show_title,name,release_date,length]\n",
    "            df.loc[-1] = metadata\n",
    "            df.index = df.index + 1  # shifting index\n",
    "            df.sort_index(inplace=True) "
   ]
  },
  {
   "cell_type": "code",
   "execution_count": 6,
   "id": "ed12056e-f41a-414e-9f18-a8e1874ed8db",
   "metadata": {},
   "outputs": [
    {
     "data": {
      "text/html": [
       "<div>\n",
       "<style scoped>\n",
       "    .dataframe tbody tr th:only-of-type {\n",
       "        vertical-align: middle;\n",
       "    }\n",
       "\n",
       "    .dataframe tbody tr th {\n",
       "        vertical-align: top;\n",
       "    }\n",
       "\n",
       "    .dataframe thead th {\n",
       "        text-align: right;\n",
       "    }\n",
       "</style>\n",
       "<table border=\"1\" class=\"dataframe\">\n",
       "  <thead>\n",
       "    <tr style=\"text-align: right;\">\n",
       "      <th></th>\n",
       "      <th>podcast</th>\n",
       "      <th>episode</th>\n",
       "      <th>date</th>\n",
       "      <th>length</th>\n",
       "    </tr>\n",
       "  </thead>\n",
       "  <tbody>\n",
       "    <tr>\n",
       "      <th>0</th>\n",
       "      <td>Lex Fridman Podcast</td>\n",
       "      <td>#350 – Betül Kaçar: Origin of Life, Ancient DN...</td>\n",
       "      <td>2022-12-30</td>\n",
       "      <td>2 hr 48 min</td>\n",
       "    </tr>\n",
       "    <tr>\n",
       "      <th>2</th>\n",
       "      <td>History of the World podcast</td>\n",
       "      <td>Unscripted (48) ( Boxing Day )</td>\n",
       "      <td>2022-12-26</td>\n",
       "      <td>13 min</td>\n",
       "    </tr>\n",
       "    <tr>\n",
       "      <th>1</th>\n",
       "      <td>History of the World podcast</td>\n",
       "      <td>Unscripted (47) ( Christmas Day )</td>\n",
       "      <td>2022-12-25</td>\n",
       "      <td>16 min</td>\n",
       "    </tr>\n",
       "  </tbody>\n",
       "</table>\n",
       "</div>"
      ],
      "text/plain": [
       "                        podcast  \\\n",
       "0           Lex Fridman Podcast   \n",
       "2  History of the World podcast   \n",
       "1  History of the World podcast   \n",
       "\n",
       "                                             episode       date       length  \n",
       "0  #350 – Betül Kaçar: Origin of Life, Ancient DN... 2022-12-30  2 hr 48 min  \n",
       "2                     Unscripted (48) ( Boxing Day ) 2022-12-26       13 min  \n",
       "1                  Unscripted (47) ( Christmas Day ) 2022-12-25       16 min  "
      ]
     },
     "execution_count": 6,
     "metadata": {},
     "output_type": "execute_result"
    }
   ],
   "source": [
    "for url in URLs:\n",
    "    load_podcast_metadata(podcast_metadata_df,days_prior,url,download_path)\n",
    "podcast_metadata_df['date'] = pd.to_datetime(podcast_metadata_df['date'])\n",
    "podcast_metadata_df = podcast_metadata_df.sort_values(by='date',ascending=False)            \n",
    "podcast_metadata_df.head()"
   ]
  },
  {
   "cell_type": "markdown",
   "id": "75932c57-087a-40f9-8a38-b44d6cb80fe9",
   "metadata": {},
   "source": [
    "## Task 4a: Store this metadata in an SQL database"
   ]
  },
  {
   "cell_type": "code",
   "execution_count": 9,
   "id": "bff4f3c4-fcd5-4af8-8771-70b114c2c961",
   "metadata": {},
   "outputs": [],
   "source": [
    "database = \"metadata.sqlite\"\n",
    "connection = sqlite3.connect(database)\n",
    "podcast_metadata_df.to_sql('podcasts_metadata',connection,if_exists='append',index=False)\n",
    "cursor = connection.cursor()"
   ]
  },
  {
   "cell_type": "code",
   "execution_count": 12,
   "id": "58753d13-0c16-45ce-9506-2f12a5daf70c",
   "metadata": {},
   "outputs": [
    {
     "name": "stdout",
     "output_type": "stream",
     "text": [
      "('Lex Fridman Podcast', '#350 – Betül Kaçar: Origin of Life, Ancient DNA, Panspermia, and Aliens', '2022-12-30 00:00:00', '2 hr 48 min')\n",
      "('Lex Fridman Podcast', '#350 – Betül Kaçar: Origin of Life, Ancient DNA, Panspermia, and Aliens', '2022-12-30 00:00:00', '2 hr 48 min')\n",
      "('History of the World podcast', 'Unscripted (48) ( Boxing Day )', '2022-12-26 00:00:00', '13 min')\n",
      "('History of the World podcast', 'Unscripted (48) ( Boxing Day )', '2022-12-26 00:00:00', '13 min')\n",
      "('History of the World podcast', 'Unscripted (47) ( Christmas Day )', '2022-12-25 00:00:00', '16 min')\n"
     ]
    }
   ],
   "source": [
    "cursor.execute(\"SELECT * FROM podcasts_metadata ORDER BY date DESC LIMIT 5\")\n",
    "rows = cursor.fetchall()\n",
    "for row in rows:\n",
    "    print(row)"
   ]
  },
  {
   "cell_type": "code",
   "execution_count": 13,
   "id": "794d40aa-80e9-4d68-bd59-d621e9702b8e",
   "metadata": {},
   "outputs": [],
   "source": [
    "connection.close()"
   ]
  },
  {
   "cell_type": "markdown",
   "id": "9eac5a9b-7d92-45b9-85e3-70670cc3640c",
   "metadata": {},
   "source": [
    "## Task 3b: Scrape the podcast audio and save to local"
   ]
  },
  {
   "cell_type": "code",
   "execution_count": 11,
   "id": "5a4166d6-2836-49ab-942b-f1ed678ddbe6",
   "metadata": {},
   "outputs": [],
   "source": [
    "def download_podcast_audio(days,url,path): \n",
    "    soup = BeautifulSoup(requests.get(url).text,'lxml')\n",
    "    show_title = soup.find('div', {'class':'ZfMIwb'}).text\n",
    "    for podcast in soup.find_all('a', {'role':'listitem'}):\n",
    "        release_date = podcast.find('div',{'class':'OTz6ee'}).text\n",
    "        if release_date in utils.get_time_range(days):\n",
    "            name = podcast.find('div', {'class':'e3ZUqe'}).text\n",
    "            print(\"\\nDownloading: \"+show_title+\" - \"+name) \n",
    "            url = podcast.find('div', {'jsname':'fvi9Ef'})['jsdata'].split(';')[1]\n",
    "            filename = wget.download(url, out=path+'/'+show_title.replace(\" \",\"_\"))\n",
    "            os.rename(filename,path+'/'+show_title.replace(\" \",\"_\")+'/'+name+'.mp3')"
   ]
  },
  {
   "cell_type": "code",
   "execution_count": 12,
   "id": "5de399c3-7a20-420d-87b3-44d54aa2ae11",
   "metadata": {},
   "outputs": [
    {
     "name": "stdout",
     "output_type": "stream",
     "text": [
      "\n",
      "Downloading: History of the World podcast - Unscripted (48) ( Boxing Day )\n",
      "100% [....................................................] 12485863 / 12485863\n",
      "Downloading: History of the World podcast - Unscripted (47) ( Christmas Day )\n",
      "100% [....................................................] 15731440 / 15731440\n",
      "Downloading: Lex Fridman Podcast - #349 – Bhaskar Sunkara: The Case for Socialism\n",
      "100% [..................................................] 168902536 / 168902536"
     ]
    }
   ],
   "source": [
    "for url in URLs:\n",
    "    download_podcast_audio(days_prior,url,download_path)"
   ]
  },
  {
   "cell_type": "markdown",
   "id": "1a2f338c-8070-482e-8edb-18d4e658ed52",
   "metadata": {},
   "source": [
    "## Task 5ab: end"
   ]
  }
 ],
 "metadata": {
  "kernelspec": {
   "display_name": "Python 3 (ipykernel)",
   "language": "python",
   "name": "python3"
  },
  "language_info": {
   "codemirror_mode": {
    "name": "ipython",
    "version": 3
   },
   "file_extension": ".py",
   "mimetype": "text/x-python",
   "name": "python",
   "nbconvert_exporter": "python",
   "pygments_lexer": "ipython3",
   "version": "3.9.12"
  }
 },
 "nbformat": 4,
 "nbformat_minor": 5
}
